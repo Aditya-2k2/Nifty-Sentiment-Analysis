{
  "nbformat": 4,
  "nbformat_minor": 0,
  "metadata": {
    "colab": {
      "provenance": []
    },
    "kernelspec": {
      "name": "python3",
      "display_name": "Python 3"
    },
    "language_info": {
      "name": "python"
    }
  },
  "cells": [
    {
      "cell_type": "markdown",
      "source": [
        "**Loading the Data**\n",
        "\n",
        "We start by loading both the news data (from the CSV file gnews_indian_stock_market_250_days_incremental.csv) and the Nifty 50 market data (from nifty50.csv)."
      ],
      "metadata": {
        "id": "fzh99EXM77g_"
      }
    },
    {
      "cell_type": "code",
      "execution_count": 1,
      "metadata": {
        "colab": {
          "base_uri": "https://localhost:8080/"
        },
        "id": "sUKUZvCu6xdY",
        "outputId": "c432e876-6509-4343-b18d-e32427cd2fb5"
      },
      "outputs": [
        {
          "output_type": "stream",
          "name": "stderr",
          "text": [
            "[nltk_data] Downloading package punkt to /root/nltk_data...\n",
            "[nltk_data]   Unzipping tokenizers/punkt.zip.\n"
          ]
        },
        {
          "output_type": "stream",
          "name": "stdout",
          "text": [
            "                            Date  \\\n",
            "0  Wed, 09 Oct 2024 14:04:28 GMT   \n",
            "1  Wed, 09 Oct 2024 17:16:19 GMT   \n",
            "2  Fri, 04 Oct 2024 10:19:56 GMT   \n",
            "3  Wed, 09 Oct 2024 14:24:04 GMT   \n",
            "4  Thu, 03 Oct 2024 07:41:47 GMT   \n",
            "\n",
            "                                               Title          Source  \\\n",
            "0  India Stock Market Outlook: October 2024 - Forbes  Unknown Source   \n",
            "1  Latest Market News Today highlights October 9,...  Unknown Source   \n",
            "2  Indian shares post worst week in over 2 years ...  Unknown Source   \n",
            "3  Stock Market Highlights: Nifty faces resistanc...  Unknown Source   \n",
            "4  Why India’s Giant Options Market Poses a Dange...  Unknown Source   \n",
            "\n",
            "                                                 URL  \n",
            "0  https://news.google.com/rss/articles/CBMic0FVX...  \n",
            "1  https://news.google.com/rss/articles/CBMiogFBV...  \n",
            "2  https://news.google.com/rss/articles/CBMingFBV...  \n",
            "3  https://news.google.com/rss/articles/CBMi1gFBV...  \n",
            "4  https://news.google.com/rss/articles/CBMiuwFBV...  \n",
            "       Date      Open      High       Low     Close   Shares Traded   \\\n",
            "0  10-Jul-24  24459.85  24461.05  24141.80  24324.45     292263786.0   \n",
            "1  11-Jul-24  24396.55  24402.65  24193.75  24315.95     306404194.0   \n",
            "2  12-Jul-24  24387.95  24592.20  24331.15  24502.15     325823474.0   \n",
            "3  15-Jul-24  24587.60  24635.05  24522.75  24586.70     305395934.0   \n",
            "4  16-Jul-24  24615.90  24661.25  24587.65  24613.00     283212233.0   \n",
            "\n",
            "   Turnover (₹ Cr)  \n",
            "0         35358.54  \n",
            "1         32115.44  \n",
            "2         39565.33  \n",
            "3         31593.04  \n",
            "4         28668.71  \n"
          ]
        },
        {
          "output_type": "stream",
          "name": "stderr",
          "text": [
            "[nltk_data] Downloading package stopwords to /root/nltk_data...\n",
            "[nltk_data]   Unzipping corpora/stopwords.zip.\n",
            "[nltk_data] Downloading package wordnet to /root/nltk_data...\n"
          ]
        }
      ],
      "source": [
        "import pandas as pd\n",
        "import nltk\n",
        "\n",
        "# Load the necessary datasets\n",
        "df_news = pd.read_csv('gnews_indian_stock_market_250_days_incremental.csv')\n",
        "df_market = pd.read_csv('nifty50.csv')\n",
        "\n",
        "# Download NLTK data (if needed)\n",
        "nltk.download('punkt')\n",
        "nltk.download('stopwords')\n",
        "nltk.download('wordnet')\n",
        "\n",
        "# Check the first few rows of both datasets\n",
        "print(df_news.head())\n",
        "print(df_market.head())\n"
      ]
    },
    {
      "cell_type": "markdown",
      "source": [
        "**Preprocessing the News Headlines**\n",
        "\n",
        "This step includes cleaning the text (lowercasing, removing punctuation, stopwords, etc.) and preparing it for sentiment analysis."
      ],
      "metadata": {
        "id": "cNdpOFxM8NRO"
      }
    },
    {
      "cell_type": "code",
      "source": [
        "import re\n",
        "from nltk.corpus import stopwords\n",
        "from nltk.stem import WordNetLemmatizer\n",
        "\n",
        "# Initialize lemmatizer and stopwords\n",
        "lemmatizer = WordNetLemmatizer()\n",
        "stop_words = set(stopwords.words('english'))\n",
        "\n",
        "# Preprocessing function for news headlines\n",
        "def preprocess_text(text):\n",
        "    text = text.lower()\n",
        "    text = re.sub(r'[^a-zA-Z\\s]', '', text)  # Remove punctuation and numbers\n",
        "    tokens = nltk.word_tokenize(text)\n",
        "    tokens = [lemmatizer.lemmatize(word) for word in tokens if word not in stop_words]\n",
        "    return ' '.join(tokens)\n",
        "\n",
        "# Apply the preprocessing to the 'Title' column\n",
        "df_news['Clean_Headline'] = df_news['Title'].apply(preprocess_text)\n",
        "\n",
        "# Check the cleaned headlines\n",
        "print(df_news[['Title', 'Clean_Headline']].head())\n"
      ],
      "metadata": {
        "colab": {
          "base_uri": "https://localhost:8080/"
        },
        "id": "bjRaCywi8K52",
        "outputId": "32e37e99-e16a-47df-c022-13b6e7880a19"
      },
      "execution_count": 2,
      "outputs": [
        {
          "output_type": "stream",
          "name": "stdout",
          "text": [
            "                                               Title  \\\n",
            "0  India Stock Market Outlook: October 2024 - Forbes   \n",
            "1  Latest Market News Today highlights October 9,...   \n",
            "2  Indian shares post worst week in over 2 years ...   \n",
            "3  Stock Market Highlights: Nifty faces resistanc...   \n",
            "4  Why India’s Giant Options Market Poses a Dange...   \n",
            "\n",
            "                                      Clean_Headline  \n",
            "0          india stock market outlook october forbes  \n",
            "1  latest market news today highlight october oil...  \n",
            "2  indian share post worst week year mideast fear...  \n",
            "3  stock market highlight nifty face resistance s...  \n",
            "4  india giant option market pose danger financia...  \n"
          ]
        }
      ]
    },
    {
      "cell_type": "markdown",
      "source": [
        "**Perform Sentiment Analysis**\n",
        "\n",
        "We use TextBlob to calculate sentiment polarity for each cleaned headline, and then classify the sentiment as positive, neutral, or negative."
      ],
      "metadata": {
        "id": "_IvDH9hG8WxD"
      }
    },
    {
      "cell_type": "code",
      "source": [
        "from textblob import TextBlob\n",
        "\n",
        "# Function to calculate sentiment score\n",
        "def get_sentiment(text):\n",
        "    analysis = TextBlob(text)\n",
        "    return analysis.sentiment.polarity\n",
        "\n",
        "# Apply sentiment analysis\n",
        "df_news['Sentiment_Score'] = df_news['Clean_Headline'].apply(get_sentiment)\n",
        "\n",
        "# Classify sentiment based on the score\n",
        "def classify_sentiment(score):\n",
        "    if score > 0:\n",
        "        return 'Positive'\n",
        "    elif score == 0:\n",
        "        return 'Neutral'\n",
        "    else:\n",
        "        return 'Negative'\n",
        "\n",
        "df_news['Sentiment'] = df_news['Sentiment_Score'].apply(classify_sentiment)\n",
        "\n",
        "# Check the sentiment data\n",
        "print(df_news[['Clean_Headline', 'Sentiment_Score', 'Sentiment']].head())\n"
      ],
      "metadata": {
        "colab": {
          "base_uri": "https://localhost:8080/"
        },
        "id": "zbGYdXPz8bPF",
        "outputId": "9ac9337d-d579-471c-f6ff-13ea6d8760ca"
      },
      "execution_count": 3,
      "outputs": [
        {
          "output_type": "stream",
          "name": "stdout",
          "text": [
            "                                      Clean_Headline  Sentiment_Score  \\\n",
            "0          india stock market outlook october forbes         0.000000   \n",
            "1  latest market news today highlight october oil...        -0.100000   \n",
            "2  indian share post worst week year mideast fear...        -0.562500   \n",
            "3  stock market highlight nifty face resistance s...         0.213636   \n",
            "4  india giant option market pose danger financia...         0.000000   \n",
            "\n",
            "  Sentiment  \n",
            "0   Neutral  \n",
            "1  Negative  \n",
            "2  Negative  \n",
            "3  Positive  \n",
            "4   Neutral  \n"
          ]
        }
      ]
    },
    {
      "cell_type": "markdown",
      "source": [
        "**Preprocess Nifty Market Data**\n",
        "\n",
        "We clean and prepare the Nifty 50 market data by calculating the daily market return and formatting the Date column."
      ],
      "metadata": {
        "id": "Q6VygkwR8ijg"
      }
    },
    {
      "cell_type": "code",
      "source": [
        "# Clean the market data and calculate daily returns\n",
        "df_market.columns = df_market.columns.str.strip()  # Remove whitespace from columns\n",
        "df_market['Date'] = pd.to_datetime(df_market['Date'])  # Convert to datetime\n",
        "df_market['Market_Return'] = df_market['Close'].pct_change()  # Calculate daily returns\n",
        "\n",
        "# Keep necessary columns\n",
        "df_market = df_market[['Date', 'Close', 'Market_Return']]\n",
        "\n",
        "# Check the market data\n",
        "print(df_market.head())\n"
      ],
      "metadata": {
        "colab": {
          "base_uri": "https://localhost:8080/"
        },
        "id": "wmQleKrH8pAe",
        "outputId": "8b5bdb94-867b-4d3e-c9b1-5748cc50ed4f"
      },
      "execution_count": 4,
      "outputs": [
        {
          "output_type": "stream",
          "name": "stdout",
          "text": [
            "        Date     Close  Market_Return\n",
            "0 2024-07-10  24324.45            NaN\n",
            "1 2024-07-11  24315.95      -0.000349\n",
            "2 2024-07-12  24502.15       0.007658\n",
            "3 2024-07-15  24586.70       0.003451\n",
            "4 2024-07-16  24613.00       0.001070\n"
          ]
        },
        {
          "output_type": "stream",
          "name": "stderr",
          "text": [
            "<ipython-input-4-b5cc0cca50c4>:3: UserWarning: Could not infer format, so each element will be parsed individually, falling back to `dateutil`. To ensure parsing is consistent and as-expected, please specify a format.\n",
            "  df_market['Date'] = pd.to_datetime(df_market['Date'])  # Convert to datetime\n"
          ]
        }
      ]
    },
    {
      "cell_type": "markdown",
      "source": [
        "**Merge the News and Market Data**\n",
        "\n",
        "We ensure both datasets use the same format for the Date column, then merge them based on the date."
      ],
      "metadata": {
        "id": "UjZMReOU8tZi"
      }
    },
    {
      "cell_type": "code",
      "source": [
        "# Convert both 'Date' columns to the same format (remove timezone info)\n",
        "df_news['Date'] = pd.to_datetime(df_news['Date']).dt.date\n",
        "df_market['Date'] = pd.to_datetime(df_market['Date']).dt.date\n",
        "\n",
        "# Merge news sentiment data with Nifty market data on 'Date'\n",
        "df_merged = pd.merge(df_news.groupby('Date')['Sentiment_Score'].mean().reset_index(),\n",
        "                     df_market, on='Date', how='inner')\n",
        "\n",
        "# Check the merged data\n",
        "print(df_merged.head())\n"
      ],
      "metadata": {
        "colab": {
          "base_uri": "https://localhost:8080/"
        },
        "id": "xtmH9lDM8vnn",
        "outputId": "73e1de58-3a55-473e-f46d-6b24135fccf8"
      },
      "execution_count": 5,
      "outputs": [
        {
          "output_type": "stream",
          "name": "stdout",
          "text": [
            "         Date  Sentiment_Score     Close  Market_Return\n",
            "0  2024-07-11             0.08  24315.95      -0.000349\n",
            "1  2024-07-23             0.00  24479.05      -0.001232\n",
            "2  2024-08-05             0.00  24055.60      -0.026786\n",
            "3  2024-08-06             0.00  23992.55      -0.002621\n",
            "4  2024-08-13             0.00  24139.00      -0.008543\n"
          ]
        }
      ]
    },
    {
      "cell_type": "markdown",
      "source": [
        "**Calculate Correlation**\n",
        "\n",
        "Now, we calculate the correlation between daily sentiment scores and Nifty market returns."
      ],
      "metadata": {
        "id": "-bFn7Q7i80fq"
      }
    },
    {
      "cell_type": "code",
      "source": [
        "# Calculate correlation between daily sentiment scores and Nifty market returns\n",
        "correlation = df_merged['Sentiment_Score'].corr(df_merged['Market_Return'])\n",
        "\n",
        "# Display the correlation value\n",
        "print(f'Correlation between Sentiment Score and Market Return: {correlation}')\n"
      ],
      "metadata": {
        "colab": {
          "base_uri": "https://localhost:8080/"
        },
        "id": "K_V3UXM-82NR",
        "outputId": "485b8400-8abd-4b20-8e1b-c4e17d8974f6"
      },
      "execution_count": 6,
      "outputs": [
        {
          "output_type": "stream",
          "name": "stdout",
          "text": [
            "Correlation between Sentiment Score and Market Return: 0.04008640762949374\n"
          ]
        }
      ]
    },
    {
      "cell_type": "markdown",
      "source": [
        "**Visualization**\n",
        "\n",
        "We visualize the relationship between the sentiment scores and market returns using a regression plot."
      ],
      "metadata": {
        "id": "AVHU75Pr86vL"
      }
    },
    {
      "cell_type": "code",
      "source": [
        "import matplotlib.pyplot as plt\n",
        "import seaborn as sns\n",
        "\n",
        "# Visualize the correlation between sentiment score and market return\n",
        "plt.figure(figsize=(10, 6))\n",
        "sns.regplot(x='Sentiment_Score', y='Market_Return', data=df_merged)\n",
        "plt.title(f'Correlation between Sentiment Score and Market Return: {correlation:.2f}')\n",
        "plt.xlabel('Sentiment Score')\n",
        "plt.ylabel('Market Return')\n",
        "plt.show()\n"
      ],
      "metadata": {
        "colab": {
          "base_uri": "https://localhost:8080/",
          "height": 564
        },
        "id": "Gm63fsib89Hl",
        "outputId": "0dc6034f-3411-4ded-81d6-919176bb3cf4"
      },
      "execution_count": 7,
      "outputs": [
        {
          "output_type": "display_data",
          "data": {
            "text/plain": [
              "<Figure size 1000x600 with 1 Axes>"
            ],
            "image/png": "[encoded data removed]"
          },
          "metadata": {}
        }
      ]
    },
    {
      "cell_type": "markdown",
      "source": [
        "<i>The correlation between the sentiment score and Nifty market returns is approximately 0.04, which indicates a very weak positive correlation. This suggests that the daily sentiment score from the news headlines has minimal influence on the daily returns of the Nifty 50 index during the given period.\n",
        "\n",
        "The visualization shows the relationship between the sentiment scores and market returns, though the low correlation indicates there is little linear association between the two. </i>"
      ],
      "metadata": {
        "id": "NETAk_Ua9S26"
      }
    },
    {
      "cell_type": "code",
      "source": [],
      "metadata": {
        "id": "PfeTL8Ew9twF"
      },
      "execution_count": null,
      "outputs": []
    }
  ]
}